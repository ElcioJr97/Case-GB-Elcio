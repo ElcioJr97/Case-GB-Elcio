{
  "cells": [
    {
      "cell_type": "markdown",
      "source": [
        "**Configuração e Autenticação**"
      ],
      "metadata": {
        "id": "ZEahkjAbtG_3"
      },
      "id": "ZEahkjAbtG_3"
    },
    {
      "cell_type": "code",
      "source": [
        "import os\n",
        "\n",
        "from google.colab import auth\n",
        "auth.authenticate_user()\n",
        "\n",
        "from google.cloud import bigquery\n",
        "\n",
        "import pandas as pd\n",
        "\n",
        "import requests\n",
        "import base64"
      ],
      "metadata": {
        "id": "-grPu7J_zHYd"
      },
      "id": "-grPu7J_zHYd",
      "execution_count": null,
      "outputs": []
    },
    {
      "cell_type": "markdown",
      "source": [
        "**Conexão Big Query**"
      ],
      "metadata": {
        "id": "XNM15F2ltJ5c"
      },
      "id": "XNM15F2ltJ5c"
    },
    {
      "cell_type": "code",
      "source": [
        "project_id = 'case-gb-elcio'\n",
        "dataset_id = 'spotify'"
      ],
      "metadata": {
        "id": "rrjFmlSNzNWp"
      },
      "id": "rrjFmlSNzNWp",
      "execution_count": null,
      "outputs": []
    },
    {
      "cell_type": "code",
      "source": [
        "client = bigquery.Client(project=project_id)"
      ],
      "metadata": {
        "id": "U1pzPCLPzQpU"
      },
      "id": "U1pzPCLPzQpU",
      "execution_count": null,
      "outputs": []
    },
    {
      "cell_type": "code",
      "source": [
        "def upload_to_bq(df, table_name):\n",
        "    job_config = bigquery.LoadJobConfig(\n",
        "        autodetect=True\n",
        "    )\n",
        "\n",
        "    job = client.load_table_from_dataframe(\n",
        "        df, f'{project_id}.{dataset_id}.{table_name}', job_config=job_config\n",
        "    )\n",
        "    job.result()\n",
        "\n",
        "    print(f\"Tabela {table_name} carregada com sucesso!\")"
      ],
      "metadata": {
        "id": "nUTe2wSczSb9"
      },
      "id": "nUTe2wSczSb9",
      "execution_count": null,
      "outputs": []
    },
    {
      "cell_type": "markdown",
      "source": [
        "**Conectando a API do Spotify e buscando token**"
      ],
      "metadata": {
        "id": "DfHMoc7culdp"
      },
      "id": "DfHMoc7culdp"
    },
    {
      "cell_type": "code",
      "source": [
        "client_id = os.environ['client_id']\n",
        "client_secret = os.environ['client_secret']\n",
        "\n",
        "client_creds = f\"{client_id}:{client_secret}\"\n",
        "client_creds_b64 = base64.b64encode(client_creds.encode()).decode()\n",
        "\n",
        "auth_url = \"https://accounts.spotify.com/api/token\"\n",
        "\n",
        "auth_headers = {\n",
        "    \"Authorization\": f\"Basic {client_creds_b64}\",\n",
        "    \"Content-Type\": \"application/x-www-form-urlencoded\"\n",
        "}\n",
        "\n",
        "auth_data = {\n",
        "    \"grant_type\": \"client_credentials\"\n",
        "}\n",
        "\n",
        "auth_response = requests.post(auth_url, headers=auth_headers, data=auth_data)\n",
        "\n",
        "if auth_response.status_code == 200:\n",
        "    access_token = auth_response.json()[\"access_token\"]\n",
        "else:\n",
        "    print(\"Erro na autenticação\")"
      ],
      "metadata": {
        "id": "9ipU-7GELUC8"
      },
      "id": "9ipU-7GELUC8",
      "execution_count": null,
      "outputs": []
    },
    {
      "cell_type": "markdown",
      "source": [
        "**Função que pesquisa pelo podcast**"
      ],
      "metadata": {
        "id": "h-UCMSGUvYFJ"
      },
      "id": "h-UCMSGUvYFJ"
    },
    {
      "cell_type": "code",
      "source": [
        "def pesquisar_spotify(termo, tipo, market=\"BR\", offset=0):\n",
        "\n",
        "    search_url = f\"https://api.spotify.com/v1/search?q={termo}&type={tipo}&market={market}&limit=50&offset={offset}\"\n",
        "\n",
        "    headers = {\n",
        "        \"Authorization\": f\"Bearer {access_token}\"\n",
        "    }\n",
        "\n",
        "    response = requests.get(search_url, headers=headers)\n",
        "\n",
        "    if response.status_code == 200:\n",
        "        return response.json()\n",
        "    else:\n",
        "        print(f\"Erro na pesquisa: {response.status_code}\")\n",
        "        return None"
      ],
      "metadata": {
        "id": "7uJ_Sho2Lf0B"
      },
      "id": "7uJ_Sho2Lf0B",
      "execution_count": null,
      "outputs": []
    },
    {
      "cell_type": "markdown",
      "source": [
        "**Função que trás os 50 primeiros resultados não nulos**"
      ],
      "metadata": {
        "id": "eoigVJHWwD83"
      },
      "id": "eoigVJHWwD83"
    },
    {
      "cell_type": "code",
      "source": [
        "def search_podcasts(termo):\n",
        "    podcasts = []\n",
        "    offset = 0\n",
        "    while len(podcasts) < 50:\n",
        "        resultados = pesquisar_spotify(termo, \"show\", market=\"BR\", offset=offset)\n",
        "        if resultados:\n",
        "            shows = resultados.get(\"shows\", {}).get(\"items\", [])\n",
        "            for show in shows:\n",
        "                if show:\n",
        "                    name = show.get(\"name\", \"\")\n",
        "                    description = show.get(\"description\", \"\")\n",
        "                    show_id = show.get(\"id\", \"\")\n",
        "                    total_episodes = show.get(\"total_episodes\", \"\")\n",
        "                    podcasts.append({\"name\": name, \"description\": description, \"id\": show_id, \"total_episodes\": total_episodes})\n",
        "        else:\n",
        "            break\n",
        "\n",
        "        offset += 50\n",
        "\n",
        "    return podcasts[:50]"
      ],
      "metadata": {
        "id": "t892liRY_8y2"
      },
      "id": "t892liRY_8y2",
      "execution_count": null,
      "outputs": []
    },
    {
      "cell_type": "markdown",
      "source": [
        "**Criando o pdDF e salvando a tabela no BigQuery**"
      ],
      "metadata": {
        "id": "teN7CLDGwdxN"
      },
      "id": "teN7CLDGwdxN"
    },
    {
      "cell_type": "code",
      "source": [
        "podcasts_data_hackers = search_podcasts(\"data hackers\")\n",
        "\n",
        "df_podcasts_data_hackers = pd.DataFrame(podcasts_data_hackers)\n",
        "\n",
        "print(df_podcasts_data_hackers.head())"
      ],
      "metadata": {
        "id": "R117Fl6tALg0"
      },
      "id": "R117Fl6tALg0",
      "execution_count": null,
      "outputs": []
    },
    {
      "cell_type": "code",
      "source": [
        "upload_to_bq(df_podcasts_data_hackers, 'tb_podcasts_data_hackers')"
      ],
      "metadata": {
        "id": "NbShGQ-fzZgh"
      },
      "id": "NbShGQ-fzZgh",
      "execution_count": null,
      "outputs": []
    }
  ],
  "metadata": {
    "kernelspec": {
      "display_name": "Python 3",
      "language": "python",
      "name": "python3"
    },
    "language_info": {
      "codemirror_mode": {
        "name": "ipython",
        "version": 3
      },
      "file_extension": ".py",
      "mimetype": "text/x-python",
      "name": "python",
      "nbconvert_exporter": "python",
      "pygments_lexer": "ipython3",
      "version": "3.10.10"
    },
    "colab": {
      "provenance": [],
      "name": "case-gb-elcio-spotify-connect"
    }
  },
  "nbformat": 4,
  "nbformat_minor": 5
}