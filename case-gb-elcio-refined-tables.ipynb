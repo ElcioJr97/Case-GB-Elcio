{
  "cells": [
    {
      "cell_type": "markdown",
      "source": [
        "**Configuração e Autenticação**"
      ],
      "metadata": {
        "id": "Afo7XfrcsbGB"
      },
      "id": "Afo7XfrcsbGB"
    },
    {
      "cell_type": "code",
      "id": "gVeugxZG7KLCngf6YmyfifL4",
      "metadata": {
        "tags": [],
        "id": "gVeugxZG7KLCngf6YmyfifL4"
      },
      "source": [
        "from google.colab import auth\n",
        "auth.authenticate_user()\n",
        "\n",
        "from google.cloud import bigquery\n",
        "\n",
        "import pandas as pd"
      ],
      "execution_count": null,
      "outputs": []
    },
    {
      "cell_type": "markdown",
      "source": [
        "**Conexão Big Query**"
      ],
      "metadata": {
        "id": "Yg33tmQgsdxM"
      },
      "id": "Yg33tmQgsdxM"
    },
    {
      "cell_type": "code",
      "source": [
        "project_id = 'case-gb-elcio'\n",
        "dataset_id = 'vendas'"
      ],
      "metadata": {
        "id": "xV0j5Z4kPsIT"
      },
      "id": "xV0j5Z4kPsIT",
      "execution_count": null,
      "outputs": []
    },
    {
      "cell_type": "code",
      "source": [
        "client = bigquery.Client(project=project_id)"
      ],
      "metadata": {
        "id": "lgRlJ553Pu3r"
      },
      "id": "lgRlJ553Pu3r",
      "execution_count": null,
      "outputs": []
    },
    {
      "cell_type": "code",
      "source": [
        "def upload_to_bq(df, table_name):\n",
        "    job_config = bigquery.LoadJobConfig(\n",
        "        autodetect=True\n",
        "    )\n",
        "\n",
        "    job = client.load_table_from_dataframe(\n",
        "        df, f'{project_id}.{dataset_id}.{table_name}', job_config=job_config\n",
        "    )\n",
        "    job.result()\n",
        "\n",
        "    print(f\"Tabela {table_name} carregada com sucesso!\")"
      ],
      "metadata": {
        "id": "NtvZGncubL-A"
      },
      "id": "NtvZGncubL-A",
      "execution_count": null,
      "outputs": []
    },
    {
      "cell_type": "markdown",
      "source": [
        "**Leitura e tratamento das tabelas**"
      ],
      "metadata": {
        "id": "u-zUzeCFsnZs"
      },
      "id": "u-zUzeCFsnZs"
    },
    {
      "cell_type": "code",
      "source": [
        "df_pd_tb_vendas_2017 = client.query(f\"SELECT * FROM `case-gb-elcio.vendas.tb_vendas_2017`\").to_dataframe()\n",
        "df_pd_tb_vendas_2018 = client.query(f\"SELECT * FROM `case-gb-elcio.vendas.tb_vendas_2018`\").to_dataframe()\n",
        "df_pd_tb_vendas_2019 = client.query(f\"SELECT * FROM `case-gb-elcio.vendas.tb_vendas_2019`\").to_dataframe()"
      ],
      "metadata": {
        "id": "vb4FRP-hXxAT"
      },
      "id": "vb4FRP-hXxAT",
      "execution_count": null,
      "outputs": []
    },
    {
      "cell_type": "code",
      "source": [
        "df_pd_unificado = pd.concat([df_pd_tb_vendas_2017, df_pd_tb_vendas_2018, df_pd_tb_vendas_2019], ignore_index=True)\n",
        "\n",
        "print(\"Tamanho do DataFrame unificado:\", df_pd_unificado.shape)\n",
        "\n",
        "print(df_pd_unificado.head())"
      ],
      "metadata": {
        "colab": {
          "base_uri": "https://localhost:8080/"
        },
        "id": "JVzlTyhSaF41",
        "executionInfo": {
          "status": "ok",
          "timestamp": 1713463973696,
          "user_tz": 180,
          "elapsed": 6,
          "user": {
            "displayName": "",
            "userId": ""
          }
        },
        "outputId": "48972ad2-602d-4d60-f90a-c7b2e93d1dcf"
      },
      "id": "JVzlTyhSaF41",
      "execution_count": null,
      "outputs": [
        {
          "output_type": "stream",
          "name": "stdout",
          "text": [
            "Tamanho do DataFrame unificado: (3000, 6)\n",
            "   ID_MARCA MARCA  ID_LINHA  LINHA DATA_VENDA  QTD_VENDA\n",
            "0         4  VULT         4  SOLAR 2019-03-06         15\n",
            "1         4  VULT         4  SOLAR 2019-03-08         15\n",
            "2         4  VULT         4  SOLAR 2019-07-23          5\n",
            "3         4  VULT         4  SOLAR 2019-06-22         12\n",
            "4         4  VULT         4  SOLAR 2019-11-11          5\n"
          ]
        }
      ]
    },
    {
      "cell_type": "code",
      "source": [
        "df_pd_unificado['ANO'] = df_pd_unificado['DATA_VENDA'].dt.year\n",
        "df_pd_unificado['MES'] = df_pd_unificado['DATA_VENDA'].dt.month"
      ],
      "metadata": {
        "id": "VIJzRofEeAK8"
      },
      "id": "VIJzRofEeAK8",
      "execution_count": null,
      "outputs": []
    },
    {
      "cell_type": "code",
      "source": [
        "df_consolidado_vendas_ano_mes = df_pd_unificado.groupby(['ANO', 'MES'])['QTD_VENDA'].sum().reset_index(name='TOTAL_VENDAS')\n",
        "\n",
        "df_consolidado_vendas_ano_mes = df_consolidado_vendas_ano_mes.sort_values(by=['ANO', 'MES'])\n",
        "\n",
        "print(df_consolidado_vendas_ano_mes)"
      ],
      "metadata": {
        "colab": {
          "base_uri": "https://localhost:8080/"
        },
        "id": "ZrsUkyypdIoA",
        "executionInfo": {
          "status": "ok",
          "timestamp": 1713467439970,
          "user_tz": 180,
          "elapsed": 420,
          "user": {
            "displayName": "",
            "userId": ""
          }
        },
        "outputId": "33fdf5db-9710-4c35-ad3f-350982c12e00"
      },
      "id": "ZrsUkyypdIoA",
      "execution_count": null,
      "outputs": [
        {
          "output_type": "stream",
          "name": "stdout",
          "text": [
            "     ANO  MES  TOTAL_VENDAS\n",
            "0   2017    1           832\n",
            "1   2017    2           739\n",
            "2   2017    3          1015\n",
            "3   2017    4           954\n",
            "4   2017    5           679\n",
            "5   2017    6           785\n",
            "6   2017    7           670\n",
            "7   2017    8           810\n",
            "8   2017    9           908\n",
            "9   2017   10          1137\n",
            "10  2017   11           919\n",
            "11  2017   12           887\n",
            "12  2019    1          1630\n",
            "13  2019    2          1566\n",
            "14  2019    3          1416\n",
            "15  2019    4          1988\n",
            "16  2019    5          1896\n",
            "17  2019    6          1734\n",
            "18  2019    7          1546\n",
            "19  2019    8          2056\n",
            "20  2019    9          2030\n",
            "21  2019   10          1752\n",
            "22  2019   11          1624\n",
            "23  2019   12          1998\n"
          ]
        }
      ]
    },
    {
      "cell_type": "code",
      "source": [
        "df_consolidado_vendas_marca_linha = df_pd_unificado.groupby(['MARCA', 'LINHA'])['QTD_VENDA'].sum().reset_index(name='TOTAL_VENDAS')\n",
        "\n",
        "df_consolidado_vendas_marca_linha = df_consolidado_vendas_marca_linha.sort_values(by=['MARCA', 'LINHA'])\n",
        "\n",
        "print(df_consolidado_vendas_marca_linha)"
      ],
      "metadata": {
        "colab": {
          "base_uri": "https://localhost:8080/"
        },
        "id": "hc8NbIN8eB0l",
        "executionInfo": {
          "status": "ok",
          "timestamp": 1713467444969,
          "user_tz": 180,
          "elapsed": 397,
          "user": {
            "displayName": "",
            "userId": ""
          }
        },
        "outputId": "95046604-b72c-4952-b7b1-94f51ebe471e"
      },
      "id": "hc8NbIN8eB0l",
      "execution_count": null,
      "outputs": [
        {
          "output_type": "stream",
          "name": "stdout",
          "text": [
            "                  MARCA        LINHA  TOTAL_VENDAS\n",
            "0         BELEZA NA WEB      CABELOS          1039\n",
            "1         BELEZA NA WEB  HIDRATANTES          1073\n",
            "2         BELEZA NA WEB    MAQUIAGEM          1310\n",
            "3         BELEZA NA WEB   PERFUMARIA          1043\n",
            "4         BELEZA NA WEB        SOLAR          1127\n",
            "5             BOTICÁRIO      CABELOS          1534\n",
            "6             BOTICÁRIO  HIDRATANTES          1233\n",
            "7             BOTICÁRIO    MAQUIAGEM          1058\n",
            "8             BOTICÁRIO   PERFUMARIA          1112\n",
            "9             BOTICÁRIO        SOLAR          1271\n",
            "10               EUDORA      CABELOS          1259\n",
            "11               EUDORA  HIDRATANTES          1101\n",
            "12               EUDORA    MAQUIAGEM          1247\n",
            "13               EUDORA   PERFUMARIA          1373\n",
            "14               EUDORA        SOLAR          1348\n",
            "15  QUEM DISSE BERENICE      CABELOS           960\n",
            "16  QUEM DISSE BERENICE  HIDRATANTES          1313\n",
            "17  QUEM DISSE BERENICE    MAQUIAGEM          1367\n",
            "18  QUEM DISSE BERENICE   PERFUMARIA          1528\n",
            "19  QUEM DISSE BERENICE        SOLAR          1574\n",
            "20                 VULT      CABELOS          1412\n",
            "21                 VULT  HIDRATANTES          1312\n",
            "22                 VULT    MAQUIAGEM          1298\n",
            "23                 VULT   PERFUMARIA          1360\n",
            "24                 VULT        SOLAR          1319\n"
          ]
        }
      ]
    },
    {
      "cell_type": "code",
      "source": [
        "df_consolidado_vendas_marca_ano_mes = df_pd_unificado.groupby(['MARCA', 'ANO', 'MES'])['QTD_VENDA'].sum().reset_index(name='TOTAL_VENDAS')\n",
        "\n",
        "df_consolidado_vendas_marca_ano_mes = df_consolidado_vendas_marca_ano_mes.sort_values(by=['MARCA', 'ANO', 'MES'])\n",
        "\n",
        "print(df_consolidado_vendas_marca_ano_mes)"
      ],
      "metadata": {
        "colab": {
          "base_uri": "https://localhost:8080/"
        },
        "id": "VhQHbWpmea0j",
        "executionInfo": {
          "status": "ok",
          "timestamp": 1713467452852,
          "user_tz": 180,
          "elapsed": 387,
          "user": {
            "displayName": "",
            "userId": ""
          }
        },
        "outputId": "5b432fcc-464d-49f2-93da-a202626bbe81"
      },
      "id": "VhQHbWpmea0j",
      "execution_count": null,
      "outputs": [
        {
          "output_type": "stream",
          "name": "stdout",
          "text": [
            "             MARCA   ANO  MES  TOTAL_VENDAS\n",
            "0    BELEZA NA WEB  2017    1           207\n",
            "1    BELEZA NA WEB  2017    2           175\n",
            "2    BELEZA NA WEB  2017    3           219\n",
            "3    BELEZA NA WEB  2017    4           108\n",
            "4    BELEZA NA WEB  2017    5           133\n",
            "..             ...   ...  ...           ...\n",
            "115           VULT  2019    8           420\n",
            "116           VULT  2019    9           416\n",
            "117           VULT  2019   10           322\n",
            "118           VULT  2019   11           422\n",
            "119           VULT  2019   12           482\n",
            "\n",
            "[120 rows x 4 columns]\n"
          ]
        }
      ]
    },
    {
      "cell_type": "code",
      "source": [
        "df_consolidado_vendas_linha_ano_mes = df_pd_unificado.groupby(['LINHA', 'ANO', 'MES'])['QTD_VENDA'].sum().reset_index(name='TOTAL_VENDAS')\n",
        "\n",
        "df_consolidado_vendas_linha_ano_mes = df_consolidado_vendas_linha_ano_mes.sort_values(by=['LINHA', 'ANO', 'MES'])\n",
        "\n",
        "print(df_consolidado_vendas_linha_ano_mes)"
      ],
      "metadata": {
        "colab": {
          "base_uri": "https://localhost:8080/"
        },
        "id": "cAyxC19Aexhs",
        "executionInfo": {
          "status": "ok",
          "timestamp": 1713467460638,
          "user_tz": 180,
          "elapsed": 373,
          "user": {
            "displayName": "",
            "userId": ""
          }
        },
        "outputId": "d2a0e9d8-0518-4c23-8410-f634e285a4c7"
      },
      "id": "cAyxC19Aexhs",
      "execution_count": null,
      "outputs": [
        {
          "output_type": "stream",
          "name": "stdout",
          "text": [
            "       LINHA   ANO  MES  TOTAL_VENDAS\n",
            "0    CABELOS  2017    1           120\n",
            "1    CABELOS  2017    2           189\n",
            "2    CABELOS  2017    3           203\n",
            "3    CABELOS  2017    4           181\n",
            "4    CABELOS  2017    5           108\n",
            "..       ...   ...  ...           ...\n",
            "115    SOLAR  2019    8           392\n",
            "116    SOLAR  2019    9           440\n",
            "117    SOLAR  2019   10           402\n",
            "118    SOLAR  2019   11           410\n",
            "119    SOLAR  2019   12           494\n",
            "\n",
            "[120 rows x 4 columns]\n"
          ]
        }
      ]
    },
    {
      "cell_type": "markdown",
      "source": [
        "**Salvando tabelas no BigQuery**"
      ],
      "metadata": {
        "id": "FXbkvPOks_tW"
      },
      "id": "FXbkvPOks_tW"
    },
    {
      "cell_type": "code",
      "source": [
        "upload_to_bq(df_consolidado_vendas_ano_mes, 'tb_consolidado_vendas_ano_mes')\n",
        "upload_to_bq(df_consolidado_vendas_marca_linha, 'tb_consolidado_vendas_marca_linha')\n",
        "upload_to_bq(df_consolidado_vendas_marca_ano_mes, 'tb_consolidado_vendas_marca_ano_mes')\n",
        "upload_to_bq(df_consolidado_vendas_linha_ano_mes, 'tb_consolidado_vendas_linha_ano_mes')"
      ],
      "metadata": {
        "colab": {
          "base_uri": "https://localhost:8080/"
        },
        "id": "BOjs3IPdcEk8",
        "executionInfo": {
          "status": "ok",
          "timestamp": 1713467499741,
          "user_tz": 180,
          "elapsed": 14402,
          "user": {
            "displayName": "",
            "userId": ""
          }
        },
        "outputId": "83f11863-8b89-4634-ce13-75c6179769d8"
      },
      "id": "BOjs3IPdcEk8",
      "execution_count": null,
      "outputs": [
        {
          "output_type": "stream",
          "name": "stdout",
          "text": [
            "Tabela tb_consolidado_vendas_ano_mes carregada com sucesso!\n",
            "Tabela tb_consolidado_vendas_marca_linha carregada com sucesso!\n",
            "Tabela tb_consolidado_vendas_marca_ano_mes carregada com sucesso!\n",
            "Tabela tb_consolidado_vendas_linha_ano_mes carregada com sucesso!\n"
          ]
        }
      ]
    }
  ],
  "metadata": {
    "kernelspec": {
      "display_name": "Python 3",
      "language": "python",
      "name": "python3"
    },
    "language_info": {
      "codemirror_mode": {
        "name": "ipython",
        "version": 3
      },
      "file_extension": ".py",
      "mimetype": "text/x-python",
      "name": "python",
      "nbconvert_exporter": "python",
      "pygments_lexer": "ipython3",
      "version": "3.10.10"
    },
    "colab": {
      "provenance": [],
      "name": "case-gb-elcio-refined-tables"
    }
  },
  "nbformat": 4,
  "nbformat_minor": 5
}