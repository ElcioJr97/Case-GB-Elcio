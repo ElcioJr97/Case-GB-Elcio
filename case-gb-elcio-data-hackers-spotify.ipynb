{
  "cells": [
    {
      "cell_type": "markdown",
      "source": [
        "**Configuração e Autenticação**"
      ],
      "metadata": {
        "id": "1wkrh7I2wqCE"
      },
      "id": "1wkrh7I2wqCE"
    },
    {
      "cell_type": "code",
      "id": "jneRhbWSmCAEtxjbh92Xlb6i",
      "metadata": {
        "tags": [],
        "id": "jneRhbWSmCAEtxjbh92Xlb6i"
      },
      "source": [
        "import os\n",
        "\n",
        "from google.colab import auth\n",
        "auth.authenticate_user()\n",
        "\n",
        "from google.cloud import bigquery\n",
        "\n",
        "import pandas as pd\n",
        "\n",
        "import requests\n",
        "import base64"
      ],
      "execution_count": null,
      "outputs": []
    },
    {
      "cell_type": "markdown",
      "source": [
        "**Conexão Big Query**"
      ],
      "metadata": {
        "id": "bQ4g-oyiwwsM"
      },
      "id": "bQ4g-oyiwwsM"
    },
    {
      "cell_type": "code",
      "source": [
        "project_id = 'case-gb-elcio'\n",
        "dataset_id = 'spotify'"
      ],
      "metadata": {
        "id": "cNCUjWIRuftH"
      },
      "id": "cNCUjWIRuftH",
      "execution_count": null,
      "outputs": []
    },
    {
      "cell_type": "code",
      "source": [
        "client = bigquery.Client(project=project_id)"
      ],
      "metadata": {
        "id": "wDNIJZqxumpu"
      },
      "id": "wDNIJZqxumpu",
      "execution_count": null,
      "outputs": []
    },
    {
      "cell_type": "code",
      "source": [
        "def upload_to_bq(df, table_name):\n",
        "    job_config = bigquery.LoadJobConfig(\n",
        "        autodetect=True\n",
        "    )\n",
        "\n",
        "    job = client.load_table_from_dataframe(\n",
        "        df, f'{project_id}.{dataset_id}.{table_name}', job_config=job_config\n",
        "    )\n",
        "    job.result()\n",
        "\n",
        "    print(f\"Tabela {table_name} carregada com sucesso!\")"
      ],
      "metadata": {
        "id": "MiyLUSZguosq"
      },
      "id": "MiyLUSZguosq",
      "execution_count": null,
      "outputs": []
    },
    {
      "cell_type": "markdown",
      "source": [
        "**Conectando a API do Spotify e buscando token**"
      ],
      "metadata": {
        "id": "qbukn5zpw3Dy"
      },
      "id": "qbukn5zpw3Dy"
    },
    {
      "cell_type": "code",
      "source": [
        "client_id = os.environ['client_id']\n",
        "client_secret = os.environ['client_secret']\n",
        "\n",
        "client_creds = f\"{client_id}:{client_secret}\"\n",
        "client_creds_b64 = base64.b64encode(client_creds.encode()).decode()\n",
        "\n",
        "auth_url = \"https://accounts.spotify.com/api/token\"\n",
        "\n",
        "auth_headers = {\n",
        "    \"Authorization\": f\"Basic {client_creds_b64}\",\n",
        "    \"Content-Type\": \"application/x-www-form-urlencoded\"\n",
        "}\n",
        "\n",
        "auth_data = {\n",
        "    \"grant_type\": \"client_credentials\"\n",
        "}\n",
        "\n",
        "auth_response = requests.post(auth_url, headers=auth_headers, data=auth_data)\n",
        "\n",
        "if auth_response.status_code == 200:\n",
        "    access_token = auth_response.json()[\"access_token\"]\n",
        "else:\n",
        "    print(\"Erro na autenticação\")"
      ],
      "metadata": {
        "id": "nIlyiKzBurQP"
      },
      "id": "nIlyiKzBurQP",
      "execution_count": null,
      "outputs": []
    },
    {
      "cell_type": "markdown",
      "source": [
        "**Função que pesquisa pelo episodio**"
      ],
      "metadata": {
        "id": "HuJ4Z98oxB9Y"
      },
      "id": "HuJ4Z98oxB9Y"
    },
    {
      "cell_type": "code",
      "source": [
        "def pesquisar_spotify(id, offset=0)\n",
        "\n",
        "    search_url = f\"https://api.spotify.com/v1/shows/{id}/episodes?offset={offset}&limit=50\"\n",
        "\n",
        "\n",
        "    headers = {\n",
        "        \"Authorization\": f\"Bearer {access_token}\"\n",
        "    }\n",
        "\n",
        "    response = requests.get(search_url, headers=headers)\n",
        "\n",
        "    if response.status_code == 200:\n",
        "        return response.json()\n",
        "    else:\n",
        "        print(f\"Erro na pesquisa: {response.status_code}\")\n",
        "        return None"
      ],
      "metadata": {
        "id": "aFOzMmb0u1k3"
      },
      "id": "aFOzMmb0u1k3",
      "execution_count": null,
      "outputs": []
    },
    {
      "cell_type": "markdown",
      "source": [
        "**Função que trás todos os resultados não nulos dos episodios de data hackers**"
      ],
      "metadata": {
        "id": "p8f67BxsxJ7-"
      },
      "id": "p8f67BxsxJ7-"
    },
    {
      "cell_type": "code",
      "source": [
        "def extrair_dados_episodios(lista_ids):\n",
        "  episodios = []\n",
        "  for id in lista_ids:\n",
        "    offset = 0\n",
        "    while True:\n",
        "      resultado = pesquisar_spotify(id, offset)\n",
        "\n",
        "      if resultado and resultado['items']:\n",
        "        for item in resultado['items']:\n",
        "          episodio = {\n",
        "            'id': item['id'],\n",
        "            'nome': item['name'],\n",
        "            'descricao': item['description'],\n",
        "            'data_lancamento': item['release_date'],\n",
        "            'duracao_ms': item['duration_ms'],\n",
        "            'idioma' : item['language'],\n",
        "            'explicito': item['explicit'],\n",
        "            'tipo': item['type']\n",
        "          }\n",
        "          episodios.append(episodio)\n",
        "\n",
        "        if resultado['next']:\n",
        "          offset += len(resultado['items'])\n",
        "        else:\n",
        "          break\n",
        "      else:\n",
        "        print(f\"Erro ao buscar episódios do ID: {id}\")\n",
        "        break\n",
        "\n",
        "  return episodios"
      ],
      "metadata": {
        "id": "dkVqy_iIEl_D"
      },
      "id": "dkVqy_iIEl_D",
      "execution_count": null,
      "outputs": []
    },
    {
      "cell_type": "markdown",
      "source": [
        "**Criando pdDF de todos os episódios encontrados e salvando no BigQuery**"
      ],
      "metadata": {
        "id": "BKEEAttZxedA"
      },
      "id": "BKEEAttZxedA"
    },
    {
      "cell_type": "code",
      "source": [
        "ids = [\"1oMIHOXsrLFENAeM743g93\"]\n",
        "tabela_episodios = extrair_dados_episodios(ids)\n",
        "df_episodes_data_hackers = pd.DataFrame(tabela_episodios)"
      ],
      "metadata": {
        "id": "Bo6SObDWE7sK"
      },
      "id": "Bo6SObDWE7sK",
      "execution_count": null,
      "outputs": []
    },
    {
      "cell_type": "code",
      "source": [
        "upload_to_bq(df_episodes_data_hackers, 'tb_episodes_data_hackers')"
      ],
      "metadata": {
        "id": "qXVZqCeax_rx"
      },
      "id": "qXVZqCeax_rx",
      "execution_count": null,
      "outputs": []
    },
    {
      "cell_type": "markdown",
      "source": [
        "**Criando pdDF com os resultados relacionados a Grupo Boticário e salvando a tabela no BigQuery**"
      ],
      "metadata": {
        "id": "gJNejWVpxxBV"
      },
      "id": "gJNejWVpxxBV"
    },
    {
      "cell_type": "code",
      "source": [
        "palavras_chave = ['Grupo Boticário', 'Grupo Boticario', 'Boticário', 'Boticario', 'O Boticário', 'O Boticario']\n",
        "\n",
        "palavras_chave_lower = [palavra.lower() for palavra in palavras_chave]\n",
        "\n",
        "regex_palavras_chave = '|'.join(palavras_chave_lower)\n",
        "\n",
        "df_episodes_gb_data_hackers = df_episodes_data_hackers[df_episodes_data_hackers['nome'].str.contains(regex_palavras_chave, case=False)]"
      ],
      "metadata": {
        "id": "KtgibSTNIMzk"
      },
      "id": "KtgibSTNIMzk",
      "execution_count": null,
      "outputs": []
    },
    {
      "cell_type": "code",
      "source": [
        "upload_to_bq(df_episodes_gb_data_hackers, 'tb_episodes_gb_data_hackers')"
      ],
      "metadata": {
        "id": "RrdYdFl6Imud"
      },
      "id": "RrdYdFl6Imud",
      "execution_count": null,
      "outputs": []
    }
  ],
  "metadata": {
    "kernelspec": {
      "display_name": "Python 3",
      "language": "python",
      "name": "python3"
    },
    "language_info": {
      "codemirror_mode": {
        "name": "ipython",
        "version": 3
      },
      "file_extension": ".py",
      "mimetype": "text/x-python",
      "name": "python",
      "nbconvert_exporter": "python",
      "pygments_lexer": "ipython3",
      "version": "3.10.10"
    },
    "colab": {
      "provenance": [],
      "name": "case-gb-elcio-data-hackers-spotify"
    }
  },
  "nbformat": 4,
  "nbformat_minor": 5
}