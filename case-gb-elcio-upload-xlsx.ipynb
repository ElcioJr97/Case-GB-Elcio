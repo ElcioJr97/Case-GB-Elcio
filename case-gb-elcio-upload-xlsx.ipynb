{
  "cells": [
    {
      "cell_type": "markdown",
      "source": [
        "**Configuração e Autenticação**"
      ],
      "metadata": {
        "id": "7G7vD3SP96B2"
      },
      "id": "7G7vD3SP96B2"
    },
    {
      "cell_type": "code",
      "source": [
        "from google.colab import auth\n",
        "auth.authenticate_user()\n",
        "\n",
        "from google.cloud import bigquery\n",
        "\n",
        "import pandas as pd"
      ],
      "metadata": {
        "id": "qVZ5rOjsBVJf"
      },
      "id": "qVZ5rOjsBVJf",
      "execution_count": null,
      "outputs": []
    },
    {
      "cell_type": "markdown",
      "source": [
        "**Conexão Big Query**"
      ],
      "metadata": {
        "id": "rBRJZLQDruCI"
      },
      "id": "rBRJZLQDruCI"
    },
    {
      "cell_type": "code",
      "source": [
        "project_id = 'case-gb-elcio'\n",
        "dataset_id = 'vendas'"
      ],
      "metadata": {
        "id": "v8zTV2nfMCdL"
      },
      "id": "v8zTV2nfMCdL",
      "execution_count": null,
      "outputs": []
    },
    {
      "cell_type": "code",
      "source": [
        "client = bigquery.Client(project=project_id)"
      ],
      "metadata": {
        "id": "itFx7D0VMAfV"
      },
      "id": "itFx7D0VMAfV",
      "execution_count": null,
      "outputs": []
    },
    {
      "cell_type": "markdown",
      "source": [
        "**Conexão no Storage e leitura de arquivos**"
      ],
      "metadata": {
        "id": "NmkEaAkjr5wI"
      },
      "id": "NmkEaAkjr5wI"
    },
    {
      "cell_type": "code",
      "source": [
        "bucket_name = \"case-gb-elcio\"\n",
        "file_path = \"/land/case-gb-csv-files/*.xlsx\"\n",
        "\n",
        "bucket = storage_client.get_bucket(bucket_name)\n",
        "\n",
        "blobs = bucket.list_blobs(prefix=file_path)"
      ],
      "metadata": {
        "id": "muj0kLeK-0zH"
      },
      "id": "muj0kLeK-0zH",
      "execution_count": null,
      "outputs": []
    },
    {
      "cell_type": "code",
      "source": [
        "vendas_2017 =\"gs://case-gb-elcio/land/case-gb-csv-files/Base_2017.xlsx\"\n",
        "vendas_2018 =\"gs://case-gb-elcio/land/case-gb-csv-files/Base_2018.xlsx\"\n",
        "vendas_2019 =\"gs://case-gb-elcio/land/case-gb-csv-files/Base_2019.xlsx\""
      ],
      "metadata": {
        "id": "ReLHaEuVB6n0"
      },
      "id": "ReLHaEuVB6n0",
      "execution_count": null,
      "outputs": []
    },
    {
      "cell_type": "code",
      "source": [
        "df_pd_vendas_2017 = pd.read_excel(vendas_2017)\n",
        "df_pd_vendas_2018 = pd.read_excel(vendas_2018)\n",
        "df_pd_vendas_2019 = pd.read_excel(vendas_2019)"
      ],
      "metadata": {
        "id": "LYs7L6wfC4AP"
      },
      "id": "LYs7L6wfC4AP",
      "execution_count": null,
      "outputs": []
    },
    {
      "cell_type": "markdown",
      "source": [
        "**Salvando tabelas no BigQuery**"
      ],
      "metadata": {
        "id": "KYQ2M1U4sRcV"
      },
      "id": "KYQ2M1U4sRcV"
    },
    {
      "cell_type": "code",
      "source": [
        "def upload_to_bq(df, table_name):\n",
        "    job_config = bigquery.LoadJobConfig(\n",
        "        autodetect=True\n",
        "    )\n",
        "\n",
        "    job = client.load_table_from_dataframe(\n",
        "        df, f'{project_id}.{dataset_id}.{table_name}', job_config=job_config\n",
        "    )\n",
        "    job.result()\n",
        "\n",
        "    print(f\"Tabela {table_name} carregada com sucesso!\")"
      ],
      "metadata": {
        "id": "IFsDJL8lMIlJ"
      },
      "id": "IFsDJL8lMIlJ",
      "execution_count": null,
      "outputs": []
    },
    {
      "cell_type": "code",
      "source": [
        "upload_to_bq(df_pd_vendas_2017, 'tb_vendas_2017')\n",
        "upload_to_bq(df_pd_vendas_2018, 'tb_vendas_2018')\n",
        "upload_to_bq(df_pd_vendas_2019, 'tb_vendas_2019')"
      ],
      "metadata": {
        "id": "oiiwgsleMykR"
      },
      "id": "oiiwgsleMykR",
      "execution_count": null,
      "outputs": []
    }
  ],
  "metadata": {
    "kernelspec": {
      "display_name": "Python 3",
      "language": "python",
      "name": "python3"
    },
    "language_info": {
      "codemirror_mode": {
        "name": "ipython",
        "version": 3
      },
      "file_extension": ".py",
      "mimetype": "text/x-python",
      "name": "python",
      "nbconvert_exporter": "python",
      "pygments_lexer": "ipython3",
      "version": "3.10.10"
    },
    "colab": {
      "provenance": [],
      "name": "case-gb-elcio-upload-xlsx"
    }
  },
  "nbformat": 4,
  "nbformat_minor": 5
}